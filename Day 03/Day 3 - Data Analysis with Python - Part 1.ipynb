{
 "cells": [
  {
   "cell_type": "markdown",
   "id": "aee51b58-7274-4dda-afe5-6350e4bab23f",
   "metadata": {},
   "source": [
    "<!--- Mohammad Idrees Bhat | Mohammad Idrees Bhat --->"
   ]
  },
  {
   "cell_type": "markdown",
   "id": "1cd821c5-4bda-4941-886d-c4ef90f131c9",
   "metadata": {},
   "source": [
    "<div style=\"background-color: #add8e6; padding: 10px; height: 70px; border-radius: 15px;\">\n",
    "    <div style=\"font-family: 'Georgia', serif; font-size: 20px; padding: 10px; text-align: right; position: absolute; right: 20px;\">\n",
    "        Ram<br>\n",
    "        <span style=\"font-family: 'Arial', sans-serif;font-size: 12px; color: #0a0a0a;\">Tech Skills Trainer | AI/ML Consultant</span>\n",
    "    </div>\n",
    "</div>"
   ]
  },
  {
   "cell_type": "markdown",
   "id": "6360f670-cd32-417c-be26-8438195b82df",
   "metadata": {},
   "source": [
    "<h1 style=\" background-color: #002147; color: White; padding: 30px; text-align:center\"> Python Programming Language (Part 5) </h1>"
   ]
  },
  {
   "cell_type": "markdown",
   "id": "19e9ec83-cf6b-4000-aa3b-4b2194c2bbf1",
   "metadata": {},
   "source": [
    "<div style=\"background-color: lightgreen; color: black; padding: 10px;\">\n",
    "    <h1>Data Analysis with Python\n",
    "</h1> </div>"
   ]
  },
  {
   "cell_type": "markdown",
   "id": "155e8ec7-547b-41f4-b6f6-6e6e719c198c",
   "metadata": {},
   "source": [
    "<div style=\"background-color: grey; color: black; padding: 10px;\">\n",
    "    <h4><b>AGENDA</b> <p><p>\n",
    "1. Introduction to Data Analysis and Python Libraries <p><p> \n",
    "2. NumPy Basics <p>\n",
    "3. Introduction to Pandas <p>\n",
    "4. Data Manipulation with Pandas <p>  \n",
    "</h4> </div>"
   ]
  },
  {
   "cell_type": "markdown",
   "id": "53ec8637",
   "metadata": {},
   "source": [
    "<div style=\"background-color: lightgreen; color: black; padding: 4px;\">\n",
    "    <h4>1. Introduction to Data Analysis and Python Libraries \n",
    "</h4> </div>"
   ]
  },
  {
   "cell_type": "markdown",
   "id": "90aef031-1416-4707-b2a0-fc60ca4ee7ca",
   "metadata": {},
   "source": [
    "## Overview of Data Analysis\n",
    "Data analysis is the process of inspecting, cleansing, transforming, and modeling data to discover useful information, inform conclusions, and support decision-making. It is important because:\n",
    "\n",
    "- **Informed Decision Making**: Data analysis helps organizations make informed decisions by providing actionable insights.\n",
    "- **Identifying Trends and Patterns**: Analyzing data can uncover trends and patterns that can lead to new opportunities or help mitigate risks.\n",
    "- **Performance Improvement**: By understanding data, organizations can optimize processes and improve overall performance.\n",
    "- **Cost Reduction**: Effective data analysis can lead to cost savings by identifying inefficiencies.\n",
    "- **Competitive Advantage**: Companies that leverage data effectively can gain a competitive edge in the market.\n"
   ]
  },
  {
   "cell_type": "markdown",
   "id": "1c762cd6-ee35-4e4e-aa54-600db6a9c23d",
   "metadata": {},
   "source": [
    "<div style=\"background-color: lightblue; color: black; padding: 4px;\">\n",
    "    <h4>Python Libraries\n",
    "</h4> </div>"
   ]
  },
  {
   "cell_type": "markdown",
   "id": "affb2e43-d552-4f52-b5e7-c4d8af63b29e",
   "metadata": {},
   "source": [
    "In Python, a library is a collection of modules and packages that provide pre-written code to perform common tasks. Libraries allow developers to reuse code, streamline their workflows, and leverage existing functionality without having to reinvent the wheel. This makes programming faster, easier, and more efficient.\n",
    "\n",
    "### Why Use Python Libraries?\n",
    "\n",
    "1. **Code Reusability**: Libraries contain reusable code, which means you can use existing functions and classes instead of writing your own from scratch. This saves time and reduces errors.\n",
    "\n",
    "2. **Simplified Development**: Libraries offer pre-built solutions to complex problems, making it easier for developers to implement functionalities without delving into the underlying details.\n",
    "\n",
    "3. **Community Support**: Popular libraries are often well-documented and maintained by a community of developers. This support makes it easier to learn and troubleshoot issues.\n",
    "\n",
    "4. **Enhanced Functionality**: Libraries expand Python's capabilities, allowing you to perform a wide range of tasks, from data analysis to web development and machine learning.\n",
    "\n",
    "5. **Focus on Higher-Level Concepts**: By using libraries, developers can focus on high-level application logic rather than low-level implementation details."
   ]
  },
  {
   "cell_type": "markdown",
   "id": "10a27b2a-0370-43aa-b972-7cc31b88203d",
   "metadata": {},
   "source": [
    "<div style=\"background-color: lightblue; color: black; padding: 4px;\">\n",
    "    <h4>Common Python Libraries\n",
    "</h4> </div>"
   ]
  },
  {
   "cell_type": "markdown",
   "id": "50dded67-68ef-4c04-b0ce-d3885982273e",
   "metadata": {},
   "source": [
    "### 1. **NumPy**\n",
    "- **Purpose**: Provides support for numerical computations and handling multi-dimensional arrays.\n",
    "- **Applications**: Used in scientific computing, data analysis, and machine learning.\n",
    "\n",
    "### 2. **Pandas**\n",
    "- **Purpose**: Offers data structures like Series and DataFrame for data manipulation and analysis.\n",
    "- **Applications**: Ideal for data cleaning, transformation, and exploratory data analysis.\n",
    "\n",
    "### 3. **Matplotlib**\n",
    "- **Purpose**: A plotting library for creating static, animated, and interactive visualizations in Python.\n",
    "- **Applications**: Used for data visualization and creating informative graphs and charts.\n",
    "\n",
    "### 4. **Scikit-learn**\n",
    "- **Purpose**: A machine learning library that provides simple and efficient tools for data mining and data analysis.\n",
    "- **Applications**: Used for building predictive models, classification, regression, and clustering.\n",
    "\n",
    "### 5. **TensorFlow and PyTorch**\n",
    "- **Purpose**: Libraries for building and training neural networks and deep learning models.\n",
    "- **Applications**: Widely used in machine learning and artificial intelligence projects.\n",
    "\n",
    "### 6. **Flask and Django**\n",
    "- **Purpose**: Web development frameworks for building web applications in Python.\n",
    "- **Applications**: Flask is lightweight for smaller applications, while Django is a robust framework for larger, more complex projects.\n",
    "\n",
    "## How to Install Python Libraries\n",
    "\n",
    "Python libraries can be easily installed using `pip`, the package installer for Python. For example, to install NumPy and Pandas, you can run the following command in your terminal:\n",
    "\n",
    "```bash\n",
    "pip install numpy pandas\n"
   ]
  },
  {
   "cell_type": "markdown",
   "id": "4d943e0f-4109-4344-aee4-242cf68e71c4",
   "metadata": {},
   "source": [
    "<div style=\"background-color: lightblue; color: black; padding: 4px;\">\n",
    "    <h4> Introduction to NumPy and Pandas\n",
    "</h4> </div>"
   ]
  },
  {
   "cell_type": "markdown",
   "id": "8fda6db2-8ca5-4481-a1c9-04731915c034",
   "metadata": {},
   "source": [
    "### NumPy\n",
    "- **Purpose**: NumPy (Numerical Python) is a library used for numerical computations. It provides support for arrays, matrices, and a variety of mathematical functions to operate on these data structures.\n",
    "- **Applications**: It is widely used in scientific computing, data analysis, and machine learning due to its efficiency and ease of use.\n",
    "\n",
    "### Pandas\n",
    "- **Purpose**: Pandas is a library designed for data manipulation and analysis. It provides data structures such as Series and DataFrames, which are efficient for handling structured data.\n",
    "- **Applications**: It is particularly useful for data cleaning, transformation, and analysis, making it a cornerstone for data analysis in Python.\n",
    "\n",
    "## Installing and Setting Up the Libraries\n",
    "To start using NumPy and Pandas, you need to install them. This can be easily done using pip, the package installer for Python. Here’s how to install them:\n",
    "\n",
    "### Step 1: Open your command line or terminal.\n",
    "\n",
    "### Step 2: Install NumPy and Pandas using pip:\n",
    "```bash\n",
    "pip install numpy pandas\n"
   ]
  },
  {
   "cell_type": "code",
   "execution_count": 1,
   "id": "3ca59720-10c6-4977-a885-9b3b907f1f2b",
   "metadata": {},
   "outputs": [
    {
     "name": "stdout",
     "output_type": "stream",
     "text": [
      "NumPy version: 1.26.4\n",
      "Pandas version: 2.2.2\n"
     ]
    }
   ],
   "source": [
    "# Importing the libraries\n",
    "import numpy as np\n",
    "import pandas as pd\n",
    "\n",
    "# Check the versions to confirm installation\n",
    "print(\"NumPy version:\", np.__version__)  # Output the version of NumPy\n",
    "print(\"Pandas version:\", pd.__version__)  # Output the version of Pandas\n"
   ]
  },
  {
   "cell_type": "markdown",
   "id": "a3b10a45",
   "metadata": {},
   "source": [
    "<div style=\"background-color: lightgreen; color: black; padding: 4px;\">\n",
    "    <h4>2. NumPy Basics\n",
    "    </h4> </div>"
   ]
  },
  {
   "cell_type": "markdown",
   "id": "edd9f23b-f739-4c74-bb9f-de2fe97f424b",
   "metadata": {},
   "source": [
    "NumPy is a powerful library for numerical computations in Python. It allows you to work with multi-dimensional arrays and provides functions to perform a variety of mathematical operations efficiently.\n",
    "\n",
    "## 1. Why Use NumPy?\n",
    "\n",
    "- **Efficiency**: NumPy arrays are faster and more memory-efficient than Python lists.\n",
    "- **Mathematical Operations**: Supports complex mathematical operations with arrays, including element-wise operations.\n",
    "- **Multi-Dimensional Arrays**: NumPy allows you to work with arrays of any dimension (1D, 2D, 3D, etc.).\n",
    "\n"
   ]
  },
  {
   "cell_type": "markdown",
   "id": "8c8c4345-0d4d-436e-9c66-9e9c2b513030",
   "metadata": {},
   "source": [
    "## 2. Creating NumPy Arrays\n",
    "\n",
    "The core feature of NumPy is the `ndarray` object. Let's start by creating an array:\n"
   ]
  },
  {
   "cell_type": "code",
   "execution_count": 11,
   "id": "3532c170-7d64-41c7-8baa-f8d16d7c212a",
   "metadata": {},
   "outputs": [
    {
     "name": "stdout",
     "output_type": "stream",
     "text": [
      "[1 2 3 4 5]\n"
     ]
    },
    {
     "data": {
      "text/plain": [
       "numpy.ndarray"
      ]
     },
     "execution_count": 11,
     "metadata": {},
     "output_type": "execute_result"
    }
   ],
   "source": [
    "import numpy as np\n",
    "\n",
    "# Creating a simple 1D array\n",
    "arr = np.array([1, 2, 3, 4, 5]) # creates a NumPy array.\n",
    "print(arr) # [1 2 3 4 5]\n",
    "type(arr)"
   ]
  },
  {
   "cell_type": "markdown",
   "id": "ea213f00-94e0-4296-83dc-61012b6c7341",
   "metadata": {},
   "source": [
    "## 3. Performing Operations on Arrays\n",
    "\n",
    "NumPy allows you to perform element-wise operations on arrays, making calculations easy and efficient.\n",
    "\n",
    "### Key Points:\n",
    "- **Element-wise operations** can be performed on arrays of the same shape.\n",
    "- Operations can include **addition**, **subtraction**, **multiplication**, and **division**.\n"
   ]
  },
  {
   "cell_type": "code",
   "execution_count": 13,
   "id": "9cf26cb3-85d9-43f2-8f7e-cd38f51fa3b0",
   "metadata": {},
   "outputs": [
    {
     "name": "stdout",
     "output_type": "stream",
     "text": [
      "Element-wise Addition: [5 7 9]\n",
      "Element-wise Subtraction: [-3 -3 -3]\n",
      "Element-wise Multiplication: [ 4 10 18]\n",
      "Element-wise Division: [0.25 0.4  0.5 ]\n"
     ]
    }
   ],
   "source": [
    "# Example: Adding two arrays\n",
    "\n",
    "import numpy as np  # Importing the NumPy library\n",
    "\n",
    "# Creating two arrays of the same shape\n",
    "arr1 = np.array([1, 2, 3])  # First array\n",
    "arr2 = np.array([4, 5, 6])  # Second array\n",
    "\n",
    "# Performing element-wise addition\n",
    "arr_sum = arr1 + arr2  # Adds corresponding elements in arr1 and arr2\n",
    "print(\"Element-wise Addition:\", arr_sum)  # Output: [5 7 9]\n",
    "\n",
    "# Performing element-wise subtraction\n",
    "arr_diff = arr1 - arr2  # Subtracts corresponding elements in arr2 from arr1\n",
    "print(\"Element-wise Subtraction:\", arr_diff)  # Output: [-3 -3 -3]\n",
    "\n",
    "# Performing element-wise multiplication\n",
    "arr_product = arr1 * arr2  # Multiplies corresponding elements in arr1 and arr2\n",
    "print(\"Element-wise Multiplication:\", arr_product)  # Output: [4 10 18]\n",
    "\n",
    "# Performing element-wise division\n",
    "arr_quotient = arr1 / arr2  # Divides corresponding elements in arr1 by arr2\n",
    "print(\"Element-wise Division:\", arr_quotient)  # Output: [0.25 0.4 0.5]\n"
   ]
  },
  {
   "cell_type": "markdown",
   "id": "539a4bed-5616-46b9-b63f-952f2d115d36",
   "metadata": {},
   "source": [
    "## 3. Array Properties\n",
    "\n",
    "NumPy arrays have properties that provide useful information about the array's structure, such as the number of dimensions and shape.\n",
    "\n",
    "### Key Points:\n",
    "- **Dimensions (ndim)**: The number of axes (or dimensions) of the array. For example, a 1D array has one dimension, while a 2D array has two.\n",
    "- **Shape**: The size of each dimension of the array, returned as a tuple. For example, a 2D array with 3 rows and 4 columns will have a shape of `(3, 4)`.\n"
   ]
  },
  {
   "cell_type": "code",
   "execution_count": 15,
   "id": "7466b66f-be20-45bf-8e86-4c29ed4c2abd",
   "metadata": {},
   "outputs": [
    {
     "name": "stdout",
     "output_type": "stream",
     "text": [
      "1\n",
      "(5,)\n"
     ]
    }
   ],
   "source": [
    "print(arr.ndim)  # Output: 1, because it's a 1D array\n",
    "print(arr.shape)  # Output: (5,), indicating the array has 5 elements in a single dimension\n"
   ]
  },
  {
   "cell_type": "markdown",
   "id": "fe00235d-690d-48d8-b3eb-2e5ff1512217",
   "metadata": {},
   "source": [
    "## 4. Performing Operations on Arrays\n",
    "\n",
    "NumPy allows you to perform element-wise operations on arrays, making calculations easy and efficient.\n",
    "\n",
    "### Key Points:\n",
    "- **Element-wise operations** can be performed on arrays of the same shape.\n",
    "- Operations can include **addition**, **subtraction**, **multiplication**, and **division**.\n"
   ]
  },
  {
   "cell_type": "code",
   "execution_count": 37,
   "id": "241ca5aa-9512-4122-8cbc-f451170b30c0",
   "metadata": {},
   "outputs": [
    {
     "name": "stdout",
     "output_type": "stream",
     "text": [
      "1\n",
      "3\n",
      "[2 3 4]\n",
      "[2 3 4 5 6 7 8 9 0]\n"
     ]
    }
   ],
   "source": [
    "# Accessing elements\n",
    "print(arr[0])  # Output: 1 (first element)\n",
    "print(arr[2])  # Output: 3 (third element)\n",
    "\n",
    "# Slicing arrays\n",
    "print(arr[1:4])  # Output: [2 3 4], elements from index 1 to 3 (index 4 is excluded).\n",
    "arr4 = np.array([1, 2, 3, 4, 5, 6, 7, 8, 9, 0])\n",
    "#print(arr4[1:4])\n",
    "print(arr4[1:])"
   ]
  },
  {
   "cell_type": "code",
   "execution_count": 35,
   "id": "d2a280ab-fcee-4a2f-bf65-1776a2238b54",
   "metadata": {},
   "outputs": [
    {
     "name": "stdout",
     "output_type": "stream",
     "text": [
      "[2 3 4 5 6 7 8 9 0]\n"
     ]
    }
   ],
   "source": [
    "print(arr4[1:])\n"
   ]
  },
  {
   "cell_type": "code",
   "execution_count": 49,
   "id": "a10ea440-3772-42cf-b8fe-fb4b6ea748f8",
   "metadata": {},
   "outputs": [
    {
     "name": "stdout",
     "output_type": "stream",
     "text": [
      "[7 8 9]\n",
      "[7 8 9 0]\n"
     ]
    }
   ],
   "source": [
    "#print(arr4[:])\n",
    "#print(arr4[ : -2])\n",
    "print(arr4[-4 : -1])\n",
    "print(arr4[-4 : ])\n"
   ]
  },
  {
   "cell_type": "markdown",
   "id": "ecac77f6",
   "metadata": {},
   "source": [
    "<div style=\"background-color: lightgreen; color: black; padding: 4px;\">\n",
    "    <h4>3. Introduction to Pandas\n",
    "</h4> </div>"
   ]
  },
  {
   "cell_type": "markdown",
   "id": "6543d1d9-16fa-43de-8638-61230bce4f22",
   "metadata": {},
   "source": [
    "Pandas is a powerful and versatile open-source **data analysis and manipulation** library for Python. It is built on top of NumPy and provides high-performance, easy-to-use data structures and data analysis tools.\n",
    "\n",
    "### Why Use Pandas?\n",
    "Pandas is particularly useful for working with structured data (like tabular data) and provides the following key features:\n",
    "- **Data Structures**: Includes Series and DataFrame, which allow you to easily store and manipulate data.\n",
    "- **Performance**: Optimized for performance, making it suitable for handling large datasets efficiently.\n",
    "- **Integration**: Works well with other libraries and tools in the data science ecosystem, such as Matplotlib for data visualization and Scikit-learn for machine learning.\n",
    "\n",
    "Pandas is widely used in various fields, including finance, economics, statistics, and data science, to analyze and visualize data efficiently.\n"
   ]
  },
  {
   "cell_type": "markdown",
   "id": "d077b36e-19ac-4971-a8cf-faf0d970bc4f",
   "metadata": {},
   "source": [
    "## Getting Started with Pandas\n",
    "\n",
    "To use Pandas, you'll first need to install it. If you haven't installed Pandas yet, you can do so using pip:\n",
    "\n",
    "```bash\n",
    "pip install pandas\n"
   ]
  },
  {
   "cell_type": "code",
   "execution_count": 25,
   "id": "7322e508-7ecb-4cab-aea8-e431b0bbb139",
   "metadata": {},
   "outputs": [],
   "source": [
    "import pandas as pd  # Importing pandas with an alias for convenience"
   ]
  },
  {
   "cell_type": "markdown",
   "id": "22dc11a3-96a0-4a2e-8e8d-f173957d7b17",
   "metadata": {},
   "source": [
    "## Basic Data Structures in Pandas\n",
    "\n",
    "Pandas primarily provides two data structures:\n",
    "\n",
    "### 1. Series\n",
    "- A Series is a one-dimensional labeled array that can hold any data type.\n",
    "- It is similar to a list or an array but with labels (indices) associated with each value.\n",
    "- It can be seen as a single column of a DataFrame.\n"
   ]
  },
  {
   "cell_type": "code",
   "execution_count": 55,
   "id": "171a6229-097f-4fb0-8bff-ed40ab603d72",
   "metadata": {},
   "outputs": [
    {
     "name": "stdout",
     "output_type": "stream",
     "text": [
      "Pandas Series:\n"
     ]
    },
    {
     "data": {
      "text/plain": [
       "0    10\n",
       "1    20\n",
       "2    30\n",
       "3    40\n",
       "dtype: int64"
      ]
     },
     "execution_count": 55,
     "metadata": {},
     "output_type": "execute_result"
    }
   ],
   "source": [
    "import pandas as pd  # Importing pandas\n",
    "\n",
    "# Creating a Series\n",
    "data = [10, 20, 30, 40]  # Sample data for the Series\n",
    "series = pd.Series(data)  # Creating a Series from the list\n",
    "#series = pd.Series([10, 20, 30, 40]) # Can we write this ?\n",
    "#series = pd.series(data) # Check if it works -> ?\n",
    "print(\"Pandas Series:\")\n",
    "#print(series)  # Display the Series\n",
    "series"
   ]
  },
  {
   "cell_type": "markdown",
   "id": "2fb47c2c-5c44-4867-ab8c-bbf32122320b",
   "metadata": {},
   "source": [
    "### 2. DataFrame\n",
    "- A DataFrame is a two-dimensional labeled data structure with columns that can be of different types. It's similar to a table in a database or a spreadsheet.\n",
    "- It can be thought of as a spreadsheet or SQL table, where you can organize data in rows and columns."
   ]
  },
  {
   "cell_type": "code",
   "execution_count": 89,
   "id": "ebd12462-f291-4989-ac34-407082dd34c2",
   "metadata": {},
   "outputs": [
    {
     "name": "stdout",
     "output_type": "stream",
     "text": [
      "\n",
      "Pandas DataFrame:\n"
     ]
    },
    {
     "data": {
      "text/html": [
       "<div>\n",
       "<style scoped>\n",
       "    .dataframe tbody tr th:only-of-type {\n",
       "        vertical-align: middle;\n",
       "    }\n",
       "\n",
       "    .dataframe tbody tr th {\n",
       "        vertical-align: top;\n",
       "    }\n",
       "\n",
       "    .dataframe thead th {\n",
       "        text-align: right;\n",
       "    }\n",
       "</style>\n",
       "<table border=\"1\" class=\"dataframe\">\n",
       "  <thead>\n",
       "    <tr style=\"text-align: right;\">\n",
       "      <th></th>\n",
       "      <th>Name</th>\n",
       "      <th>Age</th>\n",
       "      <th>City</th>\n",
       "    </tr>\n",
       "  </thead>\n",
       "  <tbody>\n",
       "    <tr>\n",
       "      <th>0</th>\n",
       "      <td>Alice</td>\n",
       "      <td>25</td>\n",
       "      <td>New York</td>\n",
       "    </tr>\n",
       "    <tr>\n",
       "      <th>1</th>\n",
       "      <td>Bob</td>\n",
       "      <td>30</td>\n",
       "      <td>Los Angeles</td>\n",
       "    </tr>\n",
       "    <tr>\n",
       "      <th>2</th>\n",
       "      <td>Charlie</td>\n",
       "      <td>35</td>\n",
       "      <td>Chicago</td>\n",
       "    </tr>\n",
       "  </tbody>\n",
       "</table>\n",
       "</div>"
      ],
      "text/plain": [
       "      Name  Age         City\n",
       "0    Alice   25     New York\n",
       "1      Bob   30  Los Angeles\n",
       "2  Charlie   35      Chicago"
      ]
     },
     "execution_count": 89,
     "metadata": {},
     "output_type": "execute_result"
    }
   ],
   "source": [
    "# Creating a DataFrame\n",
    "data_dict = {\n",
    "    'Name': ['Alice', 'Bob', 'Charlie'],  # Names of individuals\n",
    "    'Age': [25, 30, 35],  # Corresponding ages\n",
    "    'City': ['New York', 'Los Angeles', 'Chicago']  # Corresponding cities\n",
    "}  \n",
    "df = pd.DataFrame(data_dict)  # Creating a DataFrame from the dictionary\n",
    "print(\"\\nPandas DataFrame:\")\n",
    "#print(df)  # Display the DataFrame\n",
    "df"
   ]
  },
  {
   "cell_type": "markdown",
   "id": "f64c039d-d5b5-4b69-9db1-bbb972872da4",
   "metadata": {},
   "source": [
    "## Accessing Data in Pandas\n",
    "\n",
    "Pandas provides easy ways to access and manipulate the data within Series and DataFrames.\n",
    "\n",
    "### Accessing Series\n",
    "You can access elements in a Series using their index.\n"
   ]
  },
  {
   "cell_type": "markdown",
   "id": "ddb6a857-d6b2-4d44-a574-0f40efc0f352",
   "metadata": {},
   "source": [
    "### Accessing DataFrame\n",
    "You can access columns, rows, and specific cells using various methods such as:\n",
    "- **Accessing Columns**: Use `df['column_name']` to access a specific column in a DataFrame.\n",
    "  - **Example**: `df['Column1']` retrieves the data in the 'Column1' column.\n",
    "  \n",
    "- **Accessing Rows by Index Position**: Use `df.iloc[]` to access rows by their integer index position. (Integer Location)\n",
    "  - **Example**: `df.iloc[0]` retrieves the first row of the DataFrame.\n",
    "\n",
    "- **Accessing Rows by Index Label**: Use `df.loc[]` to access rows by their index label. (Label Location)\n",
    "  - **Example**: `df.loc[0]` retrieves the row with the index label '0'."
   ]
  },
  {
   "cell_type": "code",
   "execution_count": null,
   "id": "7d0ae7df-970d-457c-a938-0dfbbec768b1",
   "metadata": {},
   "outputs": [],
   "source": [
    "# Accessing elements in a Series\n",
    "print(\"First element in the Series:\", series[0])  # Accessing the first element\n",
    "\n",
    "# Accessing DataFrame columns\n",
    "print(\"\\nAccessing the 'Name' column:\")\n",
    "print(df['Name'])  # Display the 'Name' column\n",
    "\n",
    "# Accessing DataFrame rows using iloc\n",
    "print(\"\\nAccessing the first row of the DataFrame using iloc:\")\n",
    "print(df.iloc[0])  # Display the first row\n",
    "\n",
    "# Accessing DataFrame rows using loc (index label)\n",
    "print(\"\\nAccessing the row with index 1 using loc:\")\n",
    "print(df.loc[1])  # Display the row with index label 1\n"
   ]
  },
  {
   "cell_type": "code",
   "execution_count": null,
   "id": "6d20db5b",
   "metadata": {},
   "outputs": [],
   "source": [
    "# Example Usages\n",
    "df.iloc[1:10] #retrieves the first 10 entries"
   ]
  },
  {
   "cell_type": "code",
   "execution_count": 115,
   "id": "568891ff",
   "metadata": {},
   "outputs": [
    {
     "data": {
      "text/html": [
       "<div>\n",
       "<style scoped>\n",
       "    .dataframe tbody tr th:only-of-type {\n",
       "        vertical-align: middle;\n",
       "    }\n",
       "\n",
       "    .dataframe tbody tr th {\n",
       "        vertical-align: top;\n",
       "    }\n",
       "\n",
       "    .dataframe thead th {\n",
       "        text-align: right;\n",
       "    }\n",
       "</style>\n",
       "<table border=\"1\" class=\"dataframe\">\n",
       "  <thead>\n",
       "    <tr style=\"text-align: right;\">\n",
       "      <th></th>\n",
       "      <th>Name</th>\n",
       "      <th>Age</th>\n",
       "    </tr>\n",
       "  </thead>\n",
       "  <tbody>\n",
       "    <tr>\n",
       "      <th>a</th>\n",
       "      <td>Alice</td>\n",
       "      <td>25</td>\n",
       "    </tr>\n",
       "    <tr>\n",
       "      <th>b</th>\n",
       "      <td>Bob</td>\n",
       "      <td>30</td>\n",
       "    </tr>\n",
       "    <tr>\n",
       "      <th>c</th>\n",
       "      <td>Charlie</td>\n",
       "      <td>35</td>\n",
       "    </tr>\n",
       "  </tbody>\n",
       "</table>\n",
       "</div>"
      ],
      "text/plain": [
       "      Name  Age\n",
       "a    Alice   25\n",
       "b      Bob   30\n",
       "c  Charlie   35"
      ]
     },
     "execution_count": 115,
     "metadata": {},
     "output_type": "execute_result"
    }
   ],
   "source": [
    "import pandas as pd\n",
    "\n",
    "# Sample DataFrame\n",
    "data = {'Name': ['Alice', 'Bob', 'Charlie'],\n",
    "        'Age': [25, 30, 35]}\n",
    "\n",
    "df = pd.DataFrame(data, index = ['a','b','c']) # assigning custom row labels (index)\n",
    "df\n",
    "# Using .loc to select by label\n",
    "print(df.loc['a'])          # Select row with index label 'a'\n",
    "#print(df.loc['a':'b'])      # Select rows 'a' to 'b' (inclusive)\n",
    "#print(df.loc['a', 'Name'])  # Select specific value (row 'a', column 'Name')\n"
   ]
  },
  {
   "cell_type": "code",
   "execution_count": 119,
   "id": "55fc8c52-c046-4173-bdf2-d2e1f2bd0679",
   "metadata": {},
   "outputs": [
    {
     "data": {
      "text/html": [
       "<div>\n",
       "<style scoped>\n",
       "    .dataframe tbody tr th:only-of-type {\n",
       "        vertical-align: middle;\n",
       "    }\n",
       "\n",
       "    .dataframe tbody tr th {\n",
       "        vertical-align: top;\n",
       "    }\n",
       "\n",
       "    .dataframe thead th {\n",
       "        text-align: right;\n",
       "    }\n",
       "</style>\n",
       "<table border=\"1\" class=\"dataframe\">\n",
       "  <thead>\n",
       "    <tr style=\"text-align: right;\">\n",
       "      <th></th>\n",
       "      <th>Class</th>\n",
       "      <th>Age</th>\n",
       "    </tr>\n",
       "  </thead>\n",
       "  <tbody>\n",
       "    <tr>\n",
       "      <th>amit</th>\n",
       "      <td>1</td>\n",
       "      <td>25</td>\n",
       "    </tr>\n",
       "    <tr>\n",
       "      <th>bachan</th>\n",
       "      <td>2</td>\n",
       "      <td>30</td>\n",
       "    </tr>\n",
       "    <tr>\n",
       "      <th>charlie</th>\n",
       "      <td>3</td>\n",
       "      <td>35</td>\n",
       "    </tr>\n",
       "  </tbody>\n",
       "</table>\n",
       "</div>"
      ],
      "text/plain": [
       "        Class  Age\n",
       "amit        1   25\n",
       "bachan      2   30\n",
       "charlie     3   35"
      ]
     },
     "execution_count": 119,
     "metadata": {},
     "output_type": "execute_result"
    }
   ],
   "source": [
    "import pandas as pd\n",
    "\n",
    "# Sample DataFrame\n",
    "data = {'Class': ['1', '2', '3'],\n",
    "        'Age': [25, 30, 35]}\n",
    "\n",
    "df = pd.DataFrame(data, index = ['amit','bachan','charlie']) # assigning custom row labels (index)\n",
    "df"
   ]
  },
  {
   "cell_type": "code",
   "execution_count": null,
   "id": "952d72d2",
   "metadata": {},
   "outputs": [],
   "source": [
    "\n",
    "\n",
    "# Using .iloc to select by integer position\n",
    "print(df.iloc[0])           # Select the first row\n",
    "print(df.iloc[0:2])         # Select first two rows (index 0 and 1, exclusive of 2)\n",
    "print(df.iloc[0, 0])        # Select the value at the first row and first column"
   ]
  },
  {
   "cell_type": "code",
   "execution_count": 107,
   "id": "06714dd7",
   "metadata": {},
   "outputs": [
    {
     "data": {
      "text/plain": [
       "Name    Alice\n",
       "Age        25\n",
       "Name: a, dtype: object"
      ]
     },
     "execution_count": 107,
     "metadata": {},
     "output_type": "execute_result"
    }
   ],
   "source": [
    "# Using .iloc (Position-based)\n",
    "df.iloc[0]        # Select first row"
   ]
  },
  {
   "cell_type": "code",
   "execution_count": 121,
   "id": "b5e91e05",
   "metadata": {},
   "outputs": [
    {
     "data": {
      "text/plain": [
       "Class     1\n",
       "Age      25\n",
       "Name: amit, dtype: object"
      ]
     },
     "execution_count": 121,
     "metadata": {},
     "output_type": "execute_result"
    }
   ],
   "source": [
    "# Using .loc (Label-based)\n",
    "df.loc['amit']       # does not work with 0"
   ]
  },
  {
   "cell_type": "code",
   "execution_count": null,
   "id": "5d3c147a",
   "metadata": {},
   "outputs": [],
   "source": []
  },
  {
   "cell_type": "markdown",
   "id": "46a5f795",
   "metadata": {},
   "source": [
    "<div style=\"background-color: lightgreen; color: black; padding: 4px;\">\n",
    "    <h4>4. Data Manipulation with Pandas \n",
    "</h4> </div>"
   ]
  },
  {
   "cell_type": "markdown",
   "id": "343f9bb0-4941-43c9-9eae-ebc8de186301",
   "metadata": {},
   "source": [
    "## Data Manipulation with Pandas\n",
    "\n",
    "Data manipulation is one of the primary functions of the Pandas library, allowing users to transform and analyze data efficiently. This section covers essential operations for data manipulation using Pandas DataFrames.\n",
    "\n",
    "### Common Data Manipulation Operations\n",
    "\n",
    "#### 1. Loading Data\n",
    "Pandas allows you to load data from various sources, such as CSV files, Excel spreadsheets, and SQL databases."
   ]
  },
  {
   "cell_type": "code",
   "execution_count": 135,
   "id": "f25949e4-ba98-4ee6-9756-96337ab27c07",
   "metadata": {},
   "outputs": [
    {
     "data": {
      "text/html": [
       "<div>\n",
       "<style scoped>\n",
       "    .dataframe tbody tr th:only-of-type {\n",
       "        vertical-align: middle;\n",
       "    }\n",
       "\n",
       "    .dataframe tbody tr th {\n",
       "        vertical-align: top;\n",
       "    }\n",
       "\n",
       "    .dataframe thead th {\n",
       "        text-align: right;\n",
       "    }\n",
       "</style>\n",
       "<table border=\"1\" class=\"dataframe\">\n",
       "  <thead>\n",
       "    <tr style=\"text-align: right;\">\n",
       "      <th></th>\n",
       "      <th>Id</th>\n",
       "      <th>SepalLengthCm</th>\n",
       "      <th>SepalWidthCm</th>\n",
       "      <th>PetalLengthCm</th>\n",
       "      <th>PetalWidthCm</th>\n",
       "      <th>Species</th>\n",
       "    </tr>\n",
       "  </thead>\n",
       "  <tbody>\n",
       "    <tr>\n",
       "      <th>135</th>\n",
       "      <td>136</td>\n",
       "      <td>7.7</td>\n",
       "      <td>3.0</td>\n",
       "      <td>6.1</td>\n",
       "      <td>2.3</td>\n",
       "      <td>Iris-virginica</td>\n",
       "    </tr>\n",
       "    <tr>\n",
       "      <th>136</th>\n",
       "      <td>137</td>\n",
       "      <td>6.3</td>\n",
       "      <td>3.4</td>\n",
       "      <td>5.6</td>\n",
       "      <td>2.4</td>\n",
       "      <td>Iris-virginica</td>\n",
       "    </tr>\n",
       "    <tr>\n",
       "      <th>137</th>\n",
       "      <td>138</td>\n",
       "      <td>6.4</td>\n",
       "      <td>3.1</td>\n",
       "      <td>5.5</td>\n",
       "      <td>1.8</td>\n",
       "      <td>Iris-virginica</td>\n",
       "    </tr>\n",
       "    <tr>\n",
       "      <th>138</th>\n",
       "      <td>139</td>\n",
       "      <td>6.0</td>\n",
       "      <td>3.0</td>\n",
       "      <td>4.8</td>\n",
       "      <td>1.8</td>\n",
       "      <td>Iris-virginica</td>\n",
       "    </tr>\n",
       "    <tr>\n",
       "      <th>139</th>\n",
       "      <td>140</td>\n",
       "      <td>6.9</td>\n",
       "      <td>3.1</td>\n",
       "      <td>5.4</td>\n",
       "      <td>2.1</td>\n",
       "      <td>Iris-virginica</td>\n",
       "    </tr>\n",
       "    <tr>\n",
       "      <th>140</th>\n",
       "      <td>141</td>\n",
       "      <td>6.7</td>\n",
       "      <td>3.1</td>\n",
       "      <td>5.6</td>\n",
       "      <td>2.4</td>\n",
       "      <td>Iris-virginica</td>\n",
       "    </tr>\n",
       "    <tr>\n",
       "      <th>141</th>\n",
       "      <td>142</td>\n",
       "      <td>6.9</td>\n",
       "      <td>3.1</td>\n",
       "      <td>NaN</td>\n",
       "      <td>2.3</td>\n",
       "      <td>Iris-virginica</td>\n",
       "    </tr>\n",
       "    <tr>\n",
       "      <th>142</th>\n",
       "      <td>143</td>\n",
       "      <td>5.8</td>\n",
       "      <td>2.7</td>\n",
       "      <td>5.1</td>\n",
       "      <td>1.9</td>\n",
       "      <td>Iris-virginica</td>\n",
       "    </tr>\n",
       "    <tr>\n",
       "      <th>143</th>\n",
       "      <td>144</td>\n",
       "      <td>6.8</td>\n",
       "      <td>3.2</td>\n",
       "      <td>5.9</td>\n",
       "      <td>2.3</td>\n",
       "      <td>Iris-virginica</td>\n",
       "    </tr>\n",
       "    <tr>\n",
       "      <th>144</th>\n",
       "      <td>145</td>\n",
       "      <td>6.7</td>\n",
       "      <td>3.3</td>\n",
       "      <td>5.7</td>\n",
       "      <td>2.5</td>\n",
       "      <td>Iris-virginica</td>\n",
       "    </tr>\n",
       "    <tr>\n",
       "      <th>145</th>\n",
       "      <td>146</td>\n",
       "      <td>6.7</td>\n",
       "      <td>3.0</td>\n",
       "      <td>NaN</td>\n",
       "      <td>2.3</td>\n",
       "      <td>Iris-virginica</td>\n",
       "    </tr>\n",
       "    <tr>\n",
       "      <th>146</th>\n",
       "      <td>147</td>\n",
       "      <td>NaN</td>\n",
       "      <td>2.5</td>\n",
       "      <td>5.0</td>\n",
       "      <td>1.9</td>\n",
       "      <td>Iris-virginica</td>\n",
       "    </tr>\n",
       "    <tr>\n",
       "      <th>147</th>\n",
       "      <td>148</td>\n",
       "      <td>6.5</td>\n",
       "      <td>3.0</td>\n",
       "      <td>5.2</td>\n",
       "      <td>2.0</td>\n",
       "      <td>Iris-virginica</td>\n",
       "    </tr>\n",
       "    <tr>\n",
       "      <th>148</th>\n",
       "      <td>149</td>\n",
       "      <td>6.2</td>\n",
       "      <td>3.4</td>\n",
       "      <td>5.4</td>\n",
       "      <td>2.3</td>\n",
       "      <td>Iris-virginica</td>\n",
       "    </tr>\n",
       "    <tr>\n",
       "      <th>149</th>\n",
       "      <td>150</td>\n",
       "      <td>5.9</td>\n",
       "      <td>3.0</td>\n",
       "      <td>5.1</td>\n",
       "      <td>1.8</td>\n",
       "      <td>Iris-virginica</td>\n",
       "    </tr>\n",
       "  </tbody>\n",
       "</table>\n",
       "</div>"
      ],
      "text/plain": [
       "      Id  SepalLengthCm  SepalWidthCm  PetalLengthCm  PetalWidthCm  \\\n",
       "135  136            7.7           3.0            6.1           2.3   \n",
       "136  137            6.3           3.4            5.6           2.4   \n",
       "137  138            6.4           3.1            5.5           1.8   \n",
       "138  139            6.0           3.0            4.8           1.8   \n",
       "139  140            6.9           3.1            5.4           2.1   \n",
       "140  141            6.7           3.1            5.6           2.4   \n",
       "141  142            6.9           3.1            NaN           2.3   \n",
       "142  143            5.8           2.7            5.1           1.9   \n",
       "143  144            6.8           3.2            5.9           2.3   \n",
       "144  145            6.7           3.3            5.7           2.5   \n",
       "145  146            6.7           3.0            NaN           2.3   \n",
       "146  147            NaN           2.5            5.0           1.9   \n",
       "147  148            6.5           3.0            5.2           2.0   \n",
       "148  149            6.2           3.4            5.4           2.3   \n",
       "149  150            5.9           3.0            5.1           1.8   \n",
       "\n",
       "            Species  \n",
       "135  Iris-virginica  \n",
       "136  Iris-virginica  \n",
       "137  Iris-virginica  \n",
       "138  Iris-virginica  \n",
       "139  Iris-virginica  \n",
       "140  Iris-virginica  \n",
       "141  Iris-virginica  \n",
       "142  Iris-virginica  \n",
       "143  Iris-virginica  \n",
       "144  Iris-virginica  \n",
       "145  Iris-virginica  \n",
       "146  Iris-virginica  \n",
       "147  Iris-virginica  \n",
       "148  Iris-virginica  \n",
       "149  Iris-virginica  "
      ]
     },
     "execution_count": 135,
     "metadata": {},
     "output_type": "execute_result"
    }
   ],
   "source": [
    "# Example\n",
    "\n",
    "import pandas as pd\n",
    "\n",
    "# Load data from a CSV file\n",
    "df = pd.read_csv('Iris.csv')  # Replace 'data.csv' with your file path\n",
    "#df.head(10)\n",
    "df.tail(15)\n"
   ]
  },
  {
   "cell_type": "markdown",
   "id": "1bd5a118-1a68-40b5-bdeb-47dc3fdc6ec4",
   "metadata": {},
   "source": [
    "### 2. Inspecting Data\n",
    "\n",
    "Inspecting data is a crucial step in understanding the structure and content of your DataFrame. Pandas provides several built-in methods that allow you to quickly view and summarize your data.\n",
    "\n",
    "### Key Methods for Inspecting Data\n",
    "\n",
    "1. **`.head(n)`**: This method is useful for getting a quick glance at your data. This helps you to quickly see a sample of the data and understand its structure.\n",
    "\n",
    "2. **`.info(n)`**: This provides details about the DataFrame, including index type, columns, data types, and non-null counts."
   ]
  },
  {
   "cell_type": "code",
   "execution_count": 139,
   "id": "ca8adefd-246f-4cba-8ea4-b639b5566128",
   "metadata": {},
   "outputs": [
    {
     "name": "stdout",
     "output_type": "stream",
     "text": [
      "<class 'pandas.core.frame.DataFrame'>\n",
      "RangeIndex: 150 entries, 0 to 149\n",
      "Data columns (total 6 columns):\n",
      " #   Column         Non-Null Count  Dtype  \n",
      "---  ------         --------------  -----  \n",
      " 0   Id             150 non-null    int64  \n",
      " 1   SepalLengthCm  148 non-null    float64\n",
      " 2   SepalWidthCm   147 non-null    float64\n",
      " 3   PetalLengthCm  146 non-null    float64\n",
      " 4   PetalWidthCm   150 non-null    float64\n",
      " 5   Species        150 non-null    object \n",
      "dtypes: float64(4), int64(1), object(1)\n",
      "memory usage: 7.2+ KB\n"
     ]
    }
   ],
   "source": [
    "#Replace 'df' with your DataFrame variable \n",
    "\n",
    "# Display the first 5 rows of the DataFrame\n",
    "#print(df.head())  # Replace 'df' with your DataFrame variable\n",
    "# Example: print(df.head(10))  # Displays the first 10 rows\n",
    "\n",
    "# Display summary information about the DataFrame\n",
    "# No parameters are required, but you can pass 'verbose=True' to display more information if the DataFrame is large.\n",
    "#print(df.info())  # \n",
    "df.info()\n",
    "# Example: print(df.info(verbose=True))  # Displays a detailed summary of the DataFrame\n"
   ]
  },
  {
   "cell_type": "markdown",
   "id": "ddc03d75-c321-4896-98a8-f928c3e36030",
   "metadata": {},
   "source": [
    "### 3. Selecting Data\n",
    "\n",
    "Access specific rows and columns using `loc` and `iloc`."
   ]
  },
  {
   "cell_type": "code",
   "execution_count": null,
   "id": "ac6e4ca2-23bf-4f8a-b207-ee2df0cf6793",
   "metadata": {},
   "outputs": [],
   "source": [
    "# Access a specific column\n",
    "# This retrieves the data from the specified column in the DataFrame.\n",
    "# Replace 'ColumnName' with the actual name of the column you want to access.\n",
    "column_data = df['ColumnName']  # Accesses the column named 'ColumnName'\n",
    "\n",
    "# Access rows by index position\n",
    "# This retrieves the first row of the DataFrame using its index position (0-based).\n",
    "first_row = df.iloc[0]  # Accesses the first row (index 0)\n",
    "\n",
    "# Access rows by index label\n",
    "# This retrieves the row using its index label.\n",
    "# Ensure that the label exists in the DataFrame's index.\n",
    "first_row_label = df.loc[0]  # Accesses the row with index label 0"
   ]
  },
  {
   "cell_type": "code",
   "execution_count": 155,
   "id": "f31c6513-7e34-4481-b57c-746e5507331c",
   "metadata": {},
   "outputs": [
    {
     "data": {
      "text/html": [
       "<div>\n",
       "<style scoped>\n",
       "    .dataframe tbody tr th:only-of-type {\n",
       "        vertical-align: middle;\n",
       "    }\n",
       "\n",
       "    .dataframe tbody tr th {\n",
       "        vertical-align: top;\n",
       "    }\n",
       "\n",
       "    .dataframe thead th {\n",
       "        text-align: right;\n",
       "    }\n",
       "</style>\n",
       "<table border=\"1\" class=\"dataframe\">\n",
       "  <thead>\n",
       "    <tr style=\"text-align: right;\">\n",
       "      <th></th>\n",
       "      <th>Id</th>\n",
       "      <th>SepalLengthCm</th>\n",
       "      <th>SepalWidthCm</th>\n",
       "      <th>PetalLengthCm</th>\n",
       "      <th>PetalWidthCm</th>\n",
       "      <th>Species</th>\n",
       "    </tr>\n",
       "  </thead>\n",
       "  <tbody>\n",
       "    <tr>\n",
       "      <th>0</th>\n",
       "      <td>1</td>\n",
       "      <td>5.1</td>\n",
       "      <td>3.5</td>\n",
       "      <td>1.4</td>\n",
       "      <td>0.2</td>\n",
       "      <td>Iris-setosa</td>\n",
       "    </tr>\n",
       "    <tr>\n",
       "      <th>1</th>\n",
       "      <td>2</td>\n",
       "      <td>4.9</td>\n",
       "      <td>3.0</td>\n",
       "      <td>1.4</td>\n",
       "      <td>0.2</td>\n",
       "      <td>Iris-setosa</td>\n",
       "    </tr>\n",
       "    <tr>\n",
       "      <th>2</th>\n",
       "      <td>3</td>\n",
       "      <td>4.7</td>\n",
       "      <td>3.2</td>\n",
       "      <td>1.3</td>\n",
       "      <td>0.2</td>\n",
       "      <td>Iris-setosa</td>\n",
       "    </tr>\n",
       "    <tr>\n",
       "      <th>3</th>\n",
       "      <td>4</td>\n",
       "      <td>4.6</td>\n",
       "      <td>3.1</td>\n",
       "      <td>1.5</td>\n",
       "      <td>0.2</td>\n",
       "      <td>Iris-setosa</td>\n",
       "    </tr>\n",
       "    <tr>\n",
       "      <th>4</th>\n",
       "      <td>5</td>\n",
       "      <td>5.0</td>\n",
       "      <td>3.6</td>\n",
       "      <td>1.4</td>\n",
       "      <td>0.2</td>\n",
       "      <td>Iris-setosa</td>\n",
       "    </tr>\n",
       "    <tr>\n",
       "      <th>...</th>\n",
       "      <td>...</td>\n",
       "      <td>...</td>\n",
       "      <td>...</td>\n",
       "      <td>...</td>\n",
       "      <td>...</td>\n",
       "      <td>...</td>\n",
       "    </tr>\n",
       "    <tr>\n",
       "      <th>113</th>\n",
       "      <td>114</td>\n",
       "      <td>5.7</td>\n",
       "      <td>2.5</td>\n",
       "      <td>5.0</td>\n",
       "      <td>2.0</td>\n",
       "      <td>Iris-virginica</td>\n",
       "    </tr>\n",
       "    <tr>\n",
       "      <th>114</th>\n",
       "      <td>115</td>\n",
       "      <td>5.8</td>\n",
       "      <td>2.8</td>\n",
       "      <td>5.1</td>\n",
       "      <td>2.4</td>\n",
       "      <td>Iris-virginica</td>\n",
       "    </tr>\n",
       "    <tr>\n",
       "      <th>121</th>\n",
       "      <td>122</td>\n",
       "      <td>5.6</td>\n",
       "      <td>2.8</td>\n",
       "      <td>4.9</td>\n",
       "      <td>2.0</td>\n",
       "      <td>Iris-virginica</td>\n",
       "    </tr>\n",
       "    <tr>\n",
       "      <th>142</th>\n",
       "      <td>143</td>\n",
       "      <td>5.8</td>\n",
       "      <td>2.7</td>\n",
       "      <td>5.1</td>\n",
       "      <td>1.9</td>\n",
       "      <td>Iris-virginica</td>\n",
       "    </tr>\n",
       "    <tr>\n",
       "      <th>149</th>\n",
       "      <td>150</td>\n",
       "      <td>5.9</td>\n",
       "      <td>3.0</td>\n",
       "      <td>5.1</td>\n",
       "      <td>1.8</td>\n",
       "      <td>Iris-virginica</td>\n",
       "    </tr>\n",
       "  </tbody>\n",
       "</table>\n",
       "<p>82 rows × 6 columns</p>\n",
       "</div>"
      ],
      "text/plain": [
       "      Id  SepalLengthCm  SepalWidthCm  PetalLengthCm  PetalWidthCm  \\\n",
       "0      1            5.1           3.5            1.4           0.2   \n",
       "1      2            4.9           3.0            1.4           0.2   \n",
       "2      3            4.7           3.2            1.3           0.2   \n",
       "3      4            4.6           3.1            1.5           0.2   \n",
       "4      5            5.0           3.6            1.4           0.2   \n",
       "..   ...            ...           ...            ...           ...   \n",
       "113  114            5.7           2.5            5.0           2.0   \n",
       "114  115            5.8           2.8            5.1           2.4   \n",
       "121  122            5.6           2.8            4.9           2.0   \n",
       "142  143            5.8           2.7            5.1           1.9   \n",
       "149  150            5.9           3.0            5.1           1.8   \n",
       "\n",
       "            Species  \n",
       "0       Iris-setosa  \n",
       "1       Iris-setosa  \n",
       "2       Iris-setosa  \n",
       "3       Iris-setosa  \n",
       "4       Iris-setosa  \n",
       "..              ...  \n",
       "113  Iris-virginica  \n",
       "114  Iris-virginica  \n",
       "121  Iris-virginica  \n",
       "142  Iris-virginica  \n",
       "149  Iris-virginica  \n",
       "\n",
       "[82 rows x 6 columns]"
      ]
     },
     "execution_count": 155,
     "metadata": {},
     "output_type": "execute_result"
    }
   ],
   "source": [
    "#column_data = df['SepalLengthCm']  # Accesses the column named 'ColumnName'\n",
    "#column_data\n",
    "filtered_data = df[df['SepalLengthCm'] < 6]\n",
    "filtered_data"
   ]
  },
  {
   "cell_type": "markdown",
   "id": "c7f350c6-4741-4f7c-a7b0-3316b511376f",
   "metadata": {},
   "source": [
    "### 4. Filtering Data\n",
    "\n",
    "Filter data based on conditions to extract subsets of data."
   ]
  },
  {
   "cell_type": "code",
   "execution_count": 151,
   "id": "2d8c0070-2b1f-4983-937d-a655ba6a5a26",
   "metadata": {
    "scrolled": true
   },
   "outputs": [
    {
     "ename": "KeyError",
     "evalue": "'ColumnName'",
     "output_type": "error",
     "traceback": [
      "\u001b[0;31m---------------------------------------------------------------------------\u001b[0m",
      "\u001b[0;31mKeyError\u001b[0m                                  Traceback (most recent call last)",
      "File \u001b[0;32m/opt/anaconda3/lib/python3.12/site-packages/pandas/core/indexes/base.py:3805\u001b[0m, in \u001b[0;36mIndex.get_loc\u001b[0;34m(self, key)\u001b[0m\n\u001b[1;32m   3804\u001b[0m \u001b[38;5;28;01mtry\u001b[39;00m:\n\u001b[0;32m-> 3805\u001b[0m     \u001b[38;5;28;01mreturn\u001b[39;00m \u001b[38;5;28mself\u001b[39m\u001b[38;5;241m.\u001b[39m_engine\u001b[38;5;241m.\u001b[39mget_loc(casted_key)\n\u001b[1;32m   3806\u001b[0m \u001b[38;5;28;01mexcept\u001b[39;00m \u001b[38;5;167;01mKeyError\u001b[39;00m \u001b[38;5;28;01mas\u001b[39;00m err:\n",
      "File \u001b[0;32mindex.pyx:167\u001b[0m, in \u001b[0;36mpandas._libs.index.IndexEngine.get_loc\u001b[0;34m()\u001b[0m\n",
      "File \u001b[0;32mindex.pyx:196\u001b[0m, in \u001b[0;36mpandas._libs.index.IndexEngine.get_loc\u001b[0;34m()\u001b[0m\n",
      "File \u001b[0;32mpandas/_libs/hashtable_class_helper.pxi:7081\u001b[0m, in \u001b[0;36mpandas._libs.hashtable.PyObjectHashTable.get_item\u001b[0;34m()\u001b[0m\n",
      "File \u001b[0;32mpandas/_libs/hashtable_class_helper.pxi:7089\u001b[0m, in \u001b[0;36mpandas._libs.hashtable.PyObjectHashTable.get_item\u001b[0;34m()\u001b[0m\n",
      "\u001b[0;31mKeyError\u001b[0m: 'ColumnName'",
      "\nThe above exception was the direct cause of the following exception:\n",
      "\u001b[0;31mKeyError\u001b[0m                                  Traceback (most recent call last)",
      "Cell \u001b[0;32mIn[151], line 5\u001b[0m\n\u001b[1;32m      1\u001b[0m \u001b[38;5;66;03m# Filter rows where a specific column meets a condition\u001b[39;00m\n\u001b[1;32m      2\u001b[0m \u001b[38;5;66;03m# This retrieves rows from the DataFrame where the values in 'ColumnName' are greater than 50.\u001b[39;00m\n\u001b[1;32m      3\u001b[0m \u001b[38;5;66;03m# Replace 'ColumnName' with the actual name of the column you want to filter on,\u001b[39;00m\n\u001b[1;32m      4\u001b[0m \u001b[38;5;66;03m# and adjust the condition as necessary (e.g., <, ==, !=, etc.).\u001b[39;00m\n\u001b[0;32m----> 5\u001b[0m filtered_data \u001b[38;5;241m=\u001b[39m df[df[\u001b[38;5;124m'\u001b[39m\u001b[38;5;124mColumnName\u001b[39m\u001b[38;5;124m'\u001b[39m] \u001b[38;5;241m>\u001b[39m \u001b[38;5;241m50\u001b[39m]\n",
      "File \u001b[0;32m/opt/anaconda3/lib/python3.12/site-packages/pandas/core/frame.py:4102\u001b[0m, in \u001b[0;36mDataFrame.__getitem__\u001b[0;34m(self, key)\u001b[0m\n\u001b[1;32m   4100\u001b[0m \u001b[38;5;28;01mif\u001b[39;00m \u001b[38;5;28mself\u001b[39m\u001b[38;5;241m.\u001b[39mcolumns\u001b[38;5;241m.\u001b[39mnlevels \u001b[38;5;241m>\u001b[39m \u001b[38;5;241m1\u001b[39m:\n\u001b[1;32m   4101\u001b[0m     \u001b[38;5;28;01mreturn\u001b[39;00m \u001b[38;5;28mself\u001b[39m\u001b[38;5;241m.\u001b[39m_getitem_multilevel(key)\n\u001b[0;32m-> 4102\u001b[0m indexer \u001b[38;5;241m=\u001b[39m \u001b[38;5;28mself\u001b[39m\u001b[38;5;241m.\u001b[39mcolumns\u001b[38;5;241m.\u001b[39mget_loc(key)\n\u001b[1;32m   4103\u001b[0m \u001b[38;5;28;01mif\u001b[39;00m is_integer(indexer):\n\u001b[1;32m   4104\u001b[0m     indexer \u001b[38;5;241m=\u001b[39m [indexer]\n",
      "File \u001b[0;32m/opt/anaconda3/lib/python3.12/site-packages/pandas/core/indexes/base.py:3812\u001b[0m, in \u001b[0;36mIndex.get_loc\u001b[0;34m(self, key)\u001b[0m\n\u001b[1;32m   3807\u001b[0m     \u001b[38;5;28;01mif\u001b[39;00m \u001b[38;5;28misinstance\u001b[39m(casted_key, \u001b[38;5;28mslice\u001b[39m) \u001b[38;5;129;01mor\u001b[39;00m (\n\u001b[1;32m   3808\u001b[0m         \u001b[38;5;28misinstance\u001b[39m(casted_key, abc\u001b[38;5;241m.\u001b[39mIterable)\n\u001b[1;32m   3809\u001b[0m         \u001b[38;5;129;01mand\u001b[39;00m \u001b[38;5;28many\u001b[39m(\u001b[38;5;28misinstance\u001b[39m(x, \u001b[38;5;28mslice\u001b[39m) \u001b[38;5;28;01mfor\u001b[39;00m x \u001b[38;5;129;01min\u001b[39;00m casted_key)\n\u001b[1;32m   3810\u001b[0m     ):\n\u001b[1;32m   3811\u001b[0m         \u001b[38;5;28;01mraise\u001b[39;00m InvalidIndexError(key)\n\u001b[0;32m-> 3812\u001b[0m     \u001b[38;5;28;01mraise\u001b[39;00m \u001b[38;5;167;01mKeyError\u001b[39;00m(key) \u001b[38;5;28;01mfrom\u001b[39;00m \u001b[38;5;21;01merr\u001b[39;00m\n\u001b[1;32m   3813\u001b[0m \u001b[38;5;28;01mexcept\u001b[39;00m \u001b[38;5;167;01mTypeError\u001b[39;00m:\n\u001b[1;32m   3814\u001b[0m     \u001b[38;5;66;03m# If we have a listlike key, _check_indexing_error will raise\u001b[39;00m\n\u001b[1;32m   3815\u001b[0m     \u001b[38;5;66;03m#  InvalidIndexError. Otherwise we fall through and re-raise\u001b[39;00m\n\u001b[1;32m   3816\u001b[0m     \u001b[38;5;66;03m#  the TypeError.\u001b[39;00m\n\u001b[1;32m   3817\u001b[0m     \u001b[38;5;28mself\u001b[39m\u001b[38;5;241m.\u001b[39m_check_indexing_error(key)\n",
      "\u001b[0;31mKeyError\u001b[0m: 'ColumnName'"
     ]
    }
   ],
   "source": [
    "# Filter rows where a specific column meets a condition\n",
    "# This retrieves rows from the DataFrame where the values in 'ColumnName' are greater than 50.\n",
    "# Replace 'ColumnName' with the actual name of the column you want to filter on,\n",
    "# and adjust the condition as necessary (e.g., <, ==, !=, etc.).\n",
    "filtered_data = df[df['ColumnName'] > 50]  # Filters rows based on the specified condition"
   ]
  },
  {
   "cell_type": "markdown",
   "id": "608f1c6a-c262-4010-b721-a875a90ead61",
   "metadata": {},
   "source": [
    "### 5. Adding and Removing Columns\n",
    "\n",
    "Filter data based on conditions to extract subsets of data."
   ]
  },
  {
   "cell_type": "code",
   "execution_count": null,
   "id": "604b29f7-9ea6-48f5-b2cd-7135486f6d7a",
   "metadata": {},
   "outputs": [],
   "source": [
    "# Add a new column\n",
    "# This creates a new column 'NewColumn' in the DataFrame by adding the values from 'Column1' and 'Column2'.\n",
    "# Replace 'Column1' and 'Column2' with the actual column names you want to use for the addition.\n",
    "df['NewColumn'] = df['Column1'] + df['Column2']  # Creates a new column based on the sum of two existing columns\n",
    "\n",
    "# Remove a column\n",
    "# This removes the specified column from the DataFrame.\n",
    "# The 'axis=1' parameter indicates that a column is being dropped (use 'axis=0' for rows).\n",
    "# The 'inplace=True' parameter modifies the DataFrame directly without returning a new object.\n",
    "df.drop('ColumnName', axis=1, inplace=True)  # Removes the column named 'ColumnName'"
   ]
  },
  {
   "cell_type": "code",
   "execution_count": 157,
   "id": "9984bca0-63a9-4c6c-9996-283750e6e172",
   "metadata": {},
   "outputs": [
    {
     "data": {
      "text/plain": [
       "0      8.6\n",
       "1      7.9\n",
       "2      7.9\n",
       "3      7.7\n",
       "4      8.6\n",
       "      ... \n",
       "145    9.7\n",
       "146    NaN\n",
       "147    9.5\n",
       "148    9.6\n",
       "149    8.9\n",
       "Name: SepalLengthCm, Length: 150, dtype: float64"
      ]
     },
     "execution_count": 157,
     "metadata": {},
     "output_type": "execute_result"
    }
   ],
   "source": [
    "df['SepalLengthCm'] = df['SepalWidthCm'] + df['SepalLengthCm']\n",
    "df['SepalLengthCm'] "
   ]
  },
  {
   "cell_type": "code",
   "execution_count": null,
   "id": "ad9336bc",
   "metadata": {},
   "outputs": [],
   "source": [
    "# Rename columns\n",
    "df.columns = ['Column1', 'Column2']\n",
    "print(df)"
   ]
  },
  {
   "cell_type": "code",
   "execution_count": null,
   "id": "634b2dd8",
   "metadata": {},
   "outputs": [],
   "source": [
    "# Assigning custom index (row) names\n",
    "df.index = ['Row1', 'Row2', 'Row3']\n",
    "print(df)\n"
   ]
  },
  {
   "cell_type": "code",
   "execution_count": null,
   "id": "a188321c",
   "metadata": {},
   "outputs": [],
   "source": []
  },
  {
   "cell_type": "markdown",
   "id": "965a6dbb-122a-4c82-9847-76cc74f2fa17",
   "metadata": {},
   "source": [
    "### 6. Grouping Data\n",
    "\n",
    "Group data by a specific column and perform aggregate functions."
   ]
  },
  {
   "cell_type": "code",
   "execution_count": null,
   "id": "551bf23c-31b0-4319-9f3b-7efbdc7872ea",
   "metadata": {},
   "outputs": [],
   "source": [
    "# Group by a column and calculate the mean\n",
    "# This groups the DataFrame by the values in 'GroupColumn' and calculates the mean \n",
    "# for each group for all numeric columns.\n",
    "# Replace 'GroupColumn' with the actual name of the column you want to group by.\n",
    "grouped_data = df.groupby('GroupColumn').mean()  # Groups data by 'GroupColumn' and computes the mean"
   ]
  },
  {
   "cell_type": "markdown",
   "id": "735e3b09-e715-409e-83ff-0e81b6c0242e",
   "metadata": {},
   "source": [
    "### 7. Sorting Data\n",
    "\n",
    "Sort the DataFrame by one or more columns."
   ]
  },
  {
   "cell_type": "code",
   "execution_count": null,
   "id": "204162dc-4c47-4841-80f6-2f907303083a",
   "metadata": {},
   "outputs": [],
   "source": [
    "# Sort the DataFrame by a specific column\n",
    "# This sorts the DataFrame based on the values in 'ColumnName'.\n",
    "# The 'ascending=True' parameter indicates that the sorting should be in ascending order.\n",
    "# To sort in descending order, set 'ascending=False'.\n",
    "# Replace 'ColumnName' with the actual name of the column you want to sort by.\n",
    "sorted_df = df.sort_values(by='ColumnName', ascending=True)  # Sorts the DataFrame by 'ColumnName'\n"
   ]
  },
  {
   "cell_type": "markdown",
   "id": "b69ed7ea-1940-434d-bb2d-601d07994783",
   "metadata": {},
   "source": [
    "<div style=\"background-color: lightblue; color: white; padding: 10px; text-align: center;\">\n",
    "    <h1>_________________________________END________________________________\n",
    "</h1> </div>"
   ]
  },
  {
   "cell_type": "markdown",
   "id": "13e86481-eae2-4019-9515-66a43a30f0fb",
   "metadata": {},
   "source": [
    "<div style=\"background-color: #002147; color: #fff; padding: 30px; text-align: center;\">\n",
    "    <h1>THANK YOU!\n",
    "</h1> </div>"
   ]
  }
 ],
 "metadata": {
  "kernelspec": {
   "display_name": "Python 3 (ipykernel)",
   "language": "python",
   "name": "python3"
  },
  "language_info": {
   "codemirror_mode": {
    "name": "ipython",
    "version": 3
   },
   "file_extension": ".py",
   "mimetype": "text/x-python",
   "name": "python",
   "nbconvert_exporter": "python",
   "pygments_lexer": "ipython3",
   "version": "3.12.7"
  }
 },
 "nbformat": 4,
 "nbformat_minor": 5
}
